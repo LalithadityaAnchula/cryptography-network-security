{
 "cells": [
  {
   "cell_type": "code",
   "execution_count": null,
   "id": "df408824",
   "metadata": {},
   "outputs": [],
   "source": [
    "import numpy as np"
   ]
  },
  {
   "cell_type": "code",
   "execution_count": null,
   "id": "aa9acd99",
   "metadata": {},
   "outputs": [],
   "source": [
    "import pandas as pd"
   ]
  },
  {
   "cell_type": "code",
   "execution_count": null,
   "id": "8bda8eba",
   "metadata": {},
   "outputs": [],
   "source": [
    "from base64 import b64encode, b64decode\n",
    "import hashlib\n",
    "from Cryptodome.Cipher import AES\n",
    "import os\n",
    "from Cryptodome.Random import get_random_bytes"
   ]
  },
  {
   "cell_type": "code",
   "execution_count": null,
   "id": "875cafd4",
   "metadata": {},
   "outputs": [],
   "source": [
    "!pip install pycryptodomex\n"
   ]
  },
  {
   "cell_type": "code",
   "execution_count": null,
   "id": "134d9afb",
   "metadata": {},
   "outputs": [],
   "source": [
    "def encrypt(plain_text, password):\n",
    "    salt = get_random_bytes(AES.block_size)\n",
    "\n",
    "    private_key = hashlib.scrypt(\n",
    "        password.encode(), salt=salt, n=2**14, r=8, p=1, dklen=32)\n",
    "\n",
    "    cipher_config = AES.new(private_key, AES.MODE_GCM)\n",
    "\n",
    "    cipher_text, tag = cipher_config.encrypt_and_digest(bytes(plain_text, 'utf-8'))\n",
    "    return \n",
    "    {\n",
    "        'cipher_text': b64encode(cipher_text).decode('utf-8'),\n",
    "        'salt': b64encode(salt).decode('utf-8'),\n",
    "        'nonce': b64encode(cipher_config.nonce).decode('utf-8'),\n",
    "        'tag': b64encode(tag).decode('utf-8')\n",
    "    }"
   ]
  },
  {
   "cell_type": "code",
   "execution_count": null,
   "id": "22d4c5da",
   "metadata": {},
   "outputs": [],
   "source": [
    "def decrypt(enc_dict, password):\n",
    "    salt = b64decode(enc_dict['salt'])\n",
    "    cipher_text = b64decode(enc_dict['cipher_text'])\n",
    "    nonce = b64decode(enc_dict['nonce'])\n",
    "    tag = b64decode(enc_dict['tag'])\n",
    "    \n",
    "\n",
    "    private_key = hashlib.scrypt(\n",
    "        password.encode(), salt=salt, n=2**14, r=8, p=1, dklen=32)\n",
    "\n",
    "    cipher = AES.new(private_key, AES.MODE_GCM, nonce=nonce)\n",
    "\n",
    "    decrypted = cipher.decrypt_and_verify(cipher_text, tag)\n",
    "\n",
    "    return decrypted"
   ]
  },
  {
   "cell_type": "code",
   "execution_count": null,
   "id": "a2f2517c",
   "metadata": {},
   "outputs": [],
   "source": [
    "password = input(\"Key: \")\n"
   ]
  },
  {
   "cell_type": "code",
   "execution_count": null,
   "id": "be87af91",
   "metadata": {},
   "outputs": [],
   "source": [
    "\n",
    "\n",
    "encrypted = encrypt(\"hello there i here\", password)\n",
    "print(encrypted)"
   ]
  },
  {
   "cell_type": "code",
   "execution_count": null,
   "id": "2cf35990",
   "metadata": {},
   "outputs": [],
   "source": [
    "decrypted = decrypt(encrypted, password)\n",
    "print(bytes.decode(decrypted))"
   ]
  }
 ],
 "metadata": {
  "kernelspec": {
   "display_name": "Python 3.10.2 64-bit",
   "language": "python",
   "name": "python3"
  },
  "language_info": {
   "codemirror_mode": {
    "name": "ipython",
    "version": 3
   },
   "file_extension": ".py",
   "mimetype": "text/x-python",
   "name": "python",
   "nbconvert_exporter": "python",
   "pygments_lexer": "ipython3",
   "version": "3.10.2"
  },
  "vscode": {
   "interpreter": {
    "hash": "aee8b7b246df8f9039afb4144a1f6fd8d2ca17a180786b69acc140d282b71a49"
   }
  }
 },
 "nbformat": 4,
 "nbformat_minor": 5
}
