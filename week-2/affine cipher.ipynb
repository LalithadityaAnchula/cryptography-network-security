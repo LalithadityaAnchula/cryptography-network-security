{
 "cells": [
  {
   "cell_type": "code",
   "execution_count": 36,
   "id": "cf174506",
   "metadata": {},
   "outputs": [
    {
     "name": "stdout",
     "output_type": "stream",
     "text": [
      "Enter the values of a and b (space seperated)17 20\n",
      "enter the messageaffine\n"
     ]
    }
   ],
   "source": [
    "a,b = list(map(int,input(\"Enter the values of a and b (space seperated)\").split(\" \")))\n",
    "message = input(\"enter the message\")"
   ]
  },
  {
   "cell_type": "code",
   "execution_count": 37,
   "id": "16286363",
   "metadata": {},
   "outputs": [
    {
     "name": "stdout",
     "output_type": "stream",
     "text": [
      "17 20\n",
      "AFFINE\n"
     ]
    }
   ],
   "source": [
    "print(a,b)\n",
    "message = message.upper()\n",
    "print(message)"
   ]
  },
  {
   "cell_type": "code",
   "execution_count": 48,
   "id": "209b7da8",
   "metadata": {},
   "outputs": [
    {
     "name": "stdout",
     "output_type": "stream",
     "text": [
      "multiplicative inverse of a is :  23\n",
      "The encrypted messgae is : UBBAHK\n",
      "Message after decryption :  AFFINE\n"
     ]
    }
   ],
   "source": [
    "import math\n",
    "\n",
    "def mul_inv():\n",
    "    if math.gcd(a,26) ==1 :\n",
    "        for i in range(0,26):\n",
    "            if (i*a) % 26 == 1:\n",
    "                return i\n",
    "    else:\n",
    "        return 100\n",
    "\n",
    "def encrypt():\n",
    "    ans=[]\n",
    "    for i in message:\n",
    "        ans.append(chr( ((((ord(i)-65)*a)+b)%26)+65  ))\n",
    "        \n",
    "    return ans\n",
    "\n",
    "\n",
    "def decrypt(enc):\n",
    "    ans=[]\n",
    "    a_inv = mul_inv()\n",
    "    for i in enc:\n",
    "        ans.append(chr(((((ord(i)-65-b +26)%26)*a_inv)%26)+65))\n",
    "    return ans\n",
    "    \n",
    "\n",
    "    \n",
    "    \n",
    "a_inv = mul_inv()\n",
    "print(\"multiplicative inverse of a is : \", a_inv)\n",
    "if a_inv ==100 :\n",
    "    print(\"Sorry ,cannot please try another encryption method \")\n",
    "else:\n",
    "    enc = ''.join(encrypt())\n",
    "    print(\"The encrypted messgae is :\" , enc)\n",
    "    print(\"Message after decryption : \" , ''.join(decrypt(enc)))"
   ]
  },
  {
   "cell_type": "code",
   "execution_count": 46,
   "id": "d9b6cf61",
   "metadata": {},
   "outputs": [
    {
     "data": {
      "text/plain": [
       "1"
      ]
     },
     "execution_count": 46,
     "metadata": {},
     "output_type": "execute_result"
    }
   ],
   "source": []
  },
  {
   "cell_type": "code",
   "execution_count": null,
   "id": "cd9cbd31",
   "metadata": {},
   "outputs": [],
   "source": []
  }
 ],
 "metadata": {
  "kernelspec": {
   "display_name": "Python 3.10.2 64-bit",
   "language": "python",
   "name": "python3"
  },
  "language_info": {
   "codemirror_mode": {
    "name": "ipython",
    "version": 3
   },
   "file_extension": ".py",
   "mimetype": "text/x-python",
   "name": "python",
   "nbconvert_exporter": "python",
   "pygments_lexer": "ipython3",
   "version": "3.10.2"
  },
  "vscode": {
   "interpreter": {
    "hash": "aee8b7b246df8f9039afb4144a1f6fd8d2ca17a180786b69acc140d282b71a49"
   }
  }
 },
 "nbformat": 4,
 "nbformat_minor": 5
}
