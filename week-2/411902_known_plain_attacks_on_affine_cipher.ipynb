{
 "cells": [
  {
   "cell_type": "code",
   "execution_count": 1,
   "id": "00b7cd60",
   "metadata": {},
   "outputs": [],
   "source": [
    "import math\n",
    "def gcdcheck(a,b):\n",
    "    if math.gcd(a,b)==1:\n",
    "        return True\n",
    "    return False"
   ]
  },
  {
   "cell_type": "code",
   "execution_count": 2,
   "id": "07202b1e",
   "metadata": {},
   "outputs": [],
   "source": [
    "def multiplicativeinverse(a,n):\n",
    "    for i in range(1,n):\n",
    "        if(((a%n)*(i%n))%n==1):\n",
    "            return i\n",
    "    return -1"
   ]
  },
  {
   "cell_type": "code",
   "execution_count": 9,
   "id": "79a06d2f",
   "metadata": {},
   "outputs": [],
   "source": [
    "def decryptattack(plaintext,ciphertext):\n",
    "    for a in range(1,26,1):\n",
    "        for b in range(26):\n",
    "            if gcdcheck(a,b):\n",
    "                temp=\"\"\n",
    "            a1=multiplicativeinverse(a,26)\n",
    "            for i in ciphertext:\n",
    "                c=ord(i)-97\n",
    "                k=(c-b)%26\n",
    "                if k<0:\n",
    "                    k=((c-b)%26+26)%26\n",
    "                p=(k*a1)%26    \n",
    "                temp+=chr(p+97)\n",
    "            if temp == plaintext:\n",
    "                return a,b"
   ]
  },
  {
   "cell_type": "code",
   "execution_count": 10,
   "id": "d13a3279",
   "metadata": {},
   "outputs": [
    {
     "data": {
      "text/plain": [
       "(23, 1)"
      ]
     },
     "execution_count": 10,
     "metadata": {},
     "output_type": "execute_result"
    }
   ],
   "source": [
    "decryptattack(\"pq\",\"if\")"
   ]
  }
 ],
 "metadata": {
  "kernelspec": {
   "display_name": "Python 3.10.2 64-bit",
   "language": "python",
   "name": "python3"
  },
  "language_info": {
   "codemirror_mode": {
    "name": "ipython",
    "version": 3
   },
   "file_extension": ".py",
   "mimetype": "text/x-python",
   "name": "python",
   "nbconvert_exporter": "python",
   "pygments_lexer": "ipython3",
   "version": "3.10.2"
  },
  "vscode": {
   "interpreter": {
    "hash": "aee8b7b246df8f9039afb4144a1f6fd8d2ca17a180786b69acc140d282b71a49"
   }
  }
 },
 "nbformat": 4,
 "nbformat_minor": 5
}
